{
 "cells": [
  {
   "cell_type": "code",
   "execution_count": 35,
   "id": "34e19426",
   "metadata": {},
   "outputs": [
    {
     "name": "stderr",
     "output_type": "stream",
     "text": [
      "/var/folders/g7/qkqsyfcj3918g2fzqrw22nhr0000gn/T/ipykernel_18838/1523059494.py:5: DtypeWarning: Columns (2,3,4,5,6,7,8,9,10,11,12,13,14,15,16,17,18,19,20,21,22,23,24,25,26,27,28,29,30,31,32,33,34,35,36,37,38,39,40,41,42,43,44,45,46,47,48,49,50,51,52,53,54,55,56,57,58,59,60,61,62,63,64,65,66,67,68,69,70,71,72,73,74,75,76,77,78,79,80,81,82,83,110,111,148,149) have mixed types. Specify dtype option on import or set low_memory=False.\n",
      "  df1 = pd.read_csv('/Users/aidanoneil/Downloads/ACSST5Y2022.S1903-Data.csv')\n"
     ]
    },
    {
     "name": "stdout",
     "output_type": "stream",
     "text": [
      "   ZIP_CODE S1903_C03_001E START_OF_MONTH  RAW_TOTAL_SPEND\n",
      "0     10036         102287     2019-11-01          6483.24\n",
      "1     10458          41550     2019-09-01         42544.40\n",
      "2     10507          92297     2019-11-01         32827.06\n",
      "3     11801         138289     2019-09-01           465.82\n",
      "4     17551          70196     2019-10-01         11745.26\n",
      "..      ...            ...            ...              ...\n",
      "89    97504          76246     2019-10-01           361.93\n",
      "90    98019         149479     2020-07-01          1112.96\n",
      "91    98057          68293     2019-11-01          2720.71\n",
      "92    98409          65245     2019-10-01         14288.97\n",
      "93    98837          66883     2019-11-01           538.24\n",
      "\n",
      "[94 rows x 4 columns]\n"
     ]
    }
   ],
   "source": [
    "# Does not filter for retail yet, but that just requires one line.\n",
    "\n",
    "import pandas as pd\n",
    "\n",
    "df2 = pd.read_excel('/Users/aidanoneil/Downloads/safegraph-spend-sample-q3-2022.xlsx')\n",
    "\n",
    "df1 = pd.read_csv('/Users/aidanoneil/Downloads/ACSST5Y2022.S1903-Data.csv')\n",
    "\n",
    "df1.rename(columns={'NAME': 'ZIP_CODE'}, inplace=True)\n",
    "\n",
    "df1['ZIP_CODE'] = df1['ZIP_CODE'].str[6:11]\n",
    "\n",
    "df2.rename(columns={'POSTAL_CODE': 'ZIP_CODE'}, inplace=True)\n",
    "\n",
    "df2['ZIP_CODE'] = df2['ZIP_CODE'].astype(str)\n",
    "\n",
    "dict = {}\n",
    "for index, row in df2.iterrows():\n",
    "    zip = row[\"ZIP_CODE\"]\n",
    "    start = row[\"SPEND_DATE_RANGE_START\"][0:10]\n",
    "    spend = row[\"RAW_TOTAL_SPEND\"]\n",
    "    # Retail filter line here.\n",
    "    if zip not in dict:\n",
    "        dict[zip] = {start: spend}\n",
    "    elif start not in dict[zip]:\n",
    "        dict[zip][start] = spend\n",
    "    else:\n",
    "        dict[zip][start] += spend\n",
    "\n",
    "df2_new = pd.DataFrame(columns = [\"ZIP_CODE\", \"START_OF_MONTH\", \"RAW_TOTAL_SPEND\"])\n",
    "\n",
    "for zip in dict:\n",
    "    for start in dict[zip]:\n",
    "        row = (zip, start, dict[zip][start])\n",
    "        df2_new.loc[len(df2_new)] = row\n",
    "\n",
    "merged_df = pd.merge(df1, df2_new, on='ZIP_CODE', how='inner')\n",
    "\n",
    "result = merged_df[['ZIP_CODE', 'S1903_C03_001E', \"START_OF_MONTH\", 'RAW_TOTAL_SPEND']]\n",
    "\n",
    "print(result)"
   ]
  },
  {
   "cell_type": "code",
   "execution_count": null,
   "id": "6071ae7e",
   "metadata": {},
   "outputs": [],
   "source": []
  }
 ],
 "metadata": {
  "kernelspec": {
   "display_name": "Python 3",
   "language": "python",
   "name": "python3"
  },
  "language_info": {
   "codemirror_mode": {
    "name": "ipython",
    "version": 3
   },
   "file_extension": ".py",
   "mimetype": "text/x-python",
   "name": "python",
   "nbconvert_exporter": "python",
   "pygments_lexer": "ipython3",
   "version": "3.11.1 (v3.11.1:a7a450f84a, Dec  6 2022, 15:24:06) [Clang 13.0.0 (clang-1300.0.29.30)]"
  },
  "vscode": {
   "interpreter": {
    "hash": "aee8b7b246df8f9039afb4144a1f6fd8d2ca17a180786b69acc140d282b71a49"
   }
  }
 },
 "nbformat": 4,
 "nbformat_minor": 5
}
